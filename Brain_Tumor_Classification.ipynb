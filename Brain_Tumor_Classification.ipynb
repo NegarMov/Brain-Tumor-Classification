{
  "nbformat": 4,
  "nbformat_minor": 0,
  "metadata": {
    "colab": {
      "provenance": [],
      "collapsed_sections": [
        "LLizHj0qbMqN",
        "PJssDcY7cERF",
        "rbIv0uMqrYQ4",
        "Z1TwnrSBbUJt",
        "HH8pESU4ceN3",
        "wpRnH7Y-AATt",
        "G99eV-6yAKys",
        "ur3JHAhz3qAg"
      ],
      "gpuType": "T4",
      "include_colab_link": true
    },
    "kernelspec": {
      "name": "python3",
      "display_name": "Python 3"
    },
    "language_info": {
      "name": "python"
    },
    "accelerator": "GPU"
  },
  "cells": [
    {
      "cell_type": "markdown",
      "metadata": {
        "id": "view-in-github",
        "colab_type": "text"
      },
      "source": [
        "<a href=\"https://colab.research.google.com/github/NegarMov/Brain-Tumor-Classification/blob/main/Brain_Tumor_Classification.ipynb\" target=\"_parent\"><img src=\"https://colab.research.google.com/assets/colab-badge.svg\" alt=\"Open In Colab\"/></a>"
      ]
    },
    {
      "cell_type": "markdown",
      "source": [
        "# Import the required packages"
      ],
      "metadata": {
        "id": "LLizHj0qbMqN"
      }
    },
    {
      "cell_type": "code",
      "execution_count": null,
      "metadata": {
        "id": "gj8NTA9iZXIF"
      },
      "outputs": [],
      "source": [
        "import kagglehub\n",
        "import shutil\n",
        "import os\n",
        "import random\n",
        "import math\n",
        "from tqdm import tqdm\n",
        "import numpy as np\n",
        "import seaborn as sn\n",
        "from PIL import Image\n",
        "\n",
        "import matplotlib as mpl\n",
        "import matplotlib.pyplot as plt\n",
        "\n",
        "import torch\n",
        "from torch.utils.data import Dataset, DataLoader\n",
        "import torch.nn as nn\n",
        "import torch.optim.lr_scheduler as lr_scheduler\n",
        "import torch.nn.functional as F\n",
        "\n",
        "from torchvision import transforms\n",
        "import torchvision.models as models\n",
        "\n",
        "from sklearn.utils import class_weight\n",
        "from sklearn.model_selection import train_test_split, KFold"
      ]
    },
    {
      "cell_type": "markdown",
      "source": [
        "# Define constants"
      ],
      "metadata": {
        "id": "PJssDcY7cERF"
      }
    },
    {
      "cell_type": "code",
      "source": [
        "# human-readable class names\n",
        "class_names = ['Glioma Tumor', 'Meningioma Tumor', 'No Tumor', 'Pituitary Tumor']\n",
        "\n",
        "# folder name for each class\n",
        "class_folders = ['glioma', 'meningioma', 'notumor', 'pituitary']\n",
        "\n",
        "# model constants\n",
        "image_size = 224\n",
        "batch_size = 32\n",
        "learning_rate = 5 * 1e-4\n",
        "num_epochs = 10\n",
        "k_folds = 10"
      ],
      "metadata": {
        "id": "KLkj2rqccF4o"
      },
      "execution_count": null,
      "outputs": []
    },
    {
      "cell_type": "markdown",
      "source": [
        "# Set the Random Seed"
      ],
      "metadata": {
        "id": "rbIv0uMqrYQ4"
      }
    },
    {
      "cell_type": "code",
      "source": [
        "SEED = 0\n",
        "\n",
        "torch.manual_seed(SEED)\n",
        "random.seed(SEED)\n",
        "np.random.seed(SEED)"
      ],
      "metadata": {
        "id": "Acvq92JIrYyj"
      },
      "execution_count": null,
      "outputs": []
    },
    {
      "cell_type": "markdown",
      "source": [
        "# Download the dataset from Kaggle"
      ],
      "metadata": {
        "id": "Z1TwnrSBbUJt"
      }
    },
    {
      "cell_type": "code",
      "source": [
        "path = kagglehub.dataset_download(\"masoudnickparvar/brain-tumor-mri-dataset\")\n",
        "\n",
        "shutil.copytree(path, '/content/dataset')"
      ],
      "metadata": {
        "colab": {
          "base_uri": "https://localhost:8080/"
        },
        "id": "yXEjTTHdamE6",
        "outputId": "6fae3bfe-d807-4af2-b7d0-29943cad1188"
      },
      "execution_count": null,
      "outputs": [
        {
          "output_type": "stream",
          "name": "stdout",
          "text": [
            "Downloading from https://www.kaggle.com/api/v1/datasets/download/masoudnickparvar/brain-tumor-mri-dataset?dataset_version_number=1...\n"
          ]
        },
        {
          "output_type": "stream",
          "name": "stderr",
          "text": [
            "100%|██████████| 149M/149M [00:07<00:00, 20.4MB/s]"
          ]
        },
        {
          "output_type": "stream",
          "name": "stdout",
          "text": [
            "Extracting files...\n"
          ]
        },
        {
          "output_type": "stream",
          "name": "stderr",
          "text": [
            "\n"
          ]
        },
        {
          "output_type": "execute_result",
          "data": {
            "text/plain": [
              "'/content/dataset'"
            ],
            "application/vnd.google.colaboratory.intrinsic+json": {
              "type": "string"
            }
          },
          "metadata": {},
          "execution_count": 4
        }
      ]
    },
    {
      "cell_type": "markdown",
      "source": [
        "# Load the dataset"
      ],
      "metadata": {
        "id": "HH8pESU4ceN3"
      }
    },
    {
      "cell_type": "code",
      "source": [
        "def load_images_from_folder(root_dir):\n",
        "  images = []\n",
        "  labels = []\n",
        "\n",
        "  for label, class_folder in enumerate(class_folders):\n",
        "    class_dir = os.path.join(root_dir, class_folder)\n",
        "    for filename in os.listdir(class_dir):\n",
        "      img_path = os.path.join(class_dir, filename)\n",
        "      images.append(img_path)\n",
        "      labels.append(label)\n",
        "\n",
        "  return np.array(images), np.array(labels)"
      ],
      "metadata": {
        "id": "br3rhQaLbEBb"
      },
      "execution_count": null,
      "outputs": []
    },
    {
      "cell_type": "code",
      "source": [
        "train_images, train_labels = load_images_from_folder('/content/dataset/Training')\n",
        "test_images, test_labels = load_images_from_folder('/content/dataset/Testing')"
      ],
      "metadata": {
        "id": "gwXdQYABg1rq"
      },
      "execution_count": null,
      "outputs": []
    },
    {
      "cell_type": "code",
      "source": [
        "class MRI_Dataset(Dataset):\n",
        "  def __init__(self, images, labels):\n",
        "    self.images = images\n",
        "    self.labels = labels\n",
        "\n",
        "  def __len__(self):\n",
        "    return len(self.images)\n",
        "\n",
        "  def __getitem__(self, idx):\n",
        "    img_path = self.images[idx]\n",
        "    image = Image.open(img_path).convert('L')\n",
        "    return {\n",
        "      \"images\": image,\n",
        "      \"labels\": self.labels[idx]\n",
        "    }"
      ],
      "metadata": {
        "id": "JWhPmnwHfwkk"
      },
      "execution_count": null,
      "outputs": []
    },
    {
      "cell_type": "markdown",
      "source": [
        "The wrapper dataset enables applying different transform functions to train and validation sets, as one needs augmentation and one does not (this workaround is needed as k-fold cross-validation is used)."
      ],
      "metadata": {
        "id": "t450pwH7BytC"
      }
    },
    {
      "cell_type": "code",
      "source": [
        "class WrapperDataset:\n",
        "  def __init__(self, dataset, dataset_type):\n",
        "    self.dataset = dataset\n",
        "\n",
        "    base_transform = transforms.Compose([\n",
        "        transforms.Resize((image_size, image_size)),\n",
        "        transforms.ToTensor(),\n",
        "        transforms.Lambda(lambda x: x.repeat(3, 1, 1)),\n",
        "        transforms.Normalize(mean=[0.485, 0.456, 0.406], std=[0.229, 0.224, 0.225])\n",
        "    ])\n",
        "\n",
        "    aug_transform = transforms.Compose([\n",
        "        transforms.Resize((image_size, image_size)),\n",
        "        transforms.RandomHorizontalFlip(),\n",
        "        transforms.RandomRotation(degrees=5),\n",
        "        transforms.ToTensor(),\n",
        "        transforms.Lambda(lambda x: x.repeat(3, 1, 1)),\n",
        "        transforms.Normalize(mean=[0.485, 0.456, 0.406], std=[0.229, 0.224, 0.225])\n",
        "    ])\n",
        "\n",
        "    self.transform = aug_transform if dataset_type == 'train' else base_transform\n",
        "\n",
        "  def __len__(self):\n",
        "    return len(self.dataset)\n",
        "\n",
        "  def __getitem__(self, index):\n",
        "    image = self.dataset[index][\"images\"]\n",
        "    label = self.dataset[index][\"labels\"]\n",
        "\n",
        "    return {\n",
        "      \"images\": self.transform(image),\n",
        "      \"labels\": label\n",
        "    }"
      ],
      "metadata": {
        "id": "ZBN2olJCl3Kc"
      },
      "execution_count": null,
      "outputs": []
    },
    {
      "cell_type": "code",
      "source": [
        "train_dataset = MRI_Dataset(train_images, train_labels)\n",
        "test_dataset = WrapperDataset(MRI_Dataset(test_images, test_labels), 'test')\n",
        "\n",
        "kfold = KFold(n_splits=k_folds, shuffle=True)\n",
        "test_loader = DataLoader(test_dataset, batch_size=batch_size)\n",
        "\n",
        "len(train_dataset), len(test_dataset)"
      ],
      "metadata": {
        "colab": {
          "base_uri": "https://localhost:8080/"
        },
        "id": "PhFpV-bdhhp9",
        "outputId": "6bf4d23d-ff7a-41a2-8600-17d49d2ede0d"
      },
      "execution_count": null,
      "outputs": [
        {
          "output_type": "execute_result",
          "data": {
            "text/plain": [
              "(5712, 1311)"
            ]
          },
          "metadata": {},
          "execution_count": 37
        }
      ]
    },
    {
      "cell_type": "markdown",
      "source": [
        "Class weights would be later used in the loss function to mitigate class imbalance during training."
      ],
      "metadata": {
        "id": "lGGS-Q--BTY0"
      }
    },
    {
      "cell_type": "code",
      "source": [
        "class_weights = class_weight.compute_class_weight(\n",
        "    'balanced',\n",
        "    classes=np.unique(train_labels),\n",
        "    y=train_labels\n",
        ")\n",
        "\n",
        "class_weights"
      ],
      "metadata": {
        "colab": {
          "base_uri": "https://localhost:8080/"
        },
        "id": "nYf0SQqenuQU",
        "outputId": "9aebe79a-ab6b-44c8-e9c4-f851479b718d"
      },
      "execution_count": null,
      "outputs": [
        {
          "output_type": "execute_result",
          "data": {
            "text/plain": [
              "array([1.08099924, 1.06646751, 0.89529781, 0.98009609])"
            ]
          },
          "metadata": {},
          "execution_count": 10
        }
      ]
    },
    {
      "cell_type": "markdown",
      "source": [
        "# Set up the model"
      ],
      "metadata": {
        "id": "wpRnH7Y-AATt"
      }
    },
    {
      "cell_type": "code",
      "source": [
        "class NeuralNet(nn.Module):\n",
        "  def __init__(self):\n",
        "    super(NeuralNet, self).__init__()\n",
        "\n",
        "    # CNN layers\n",
        "    self.cnn = models.shufflenet_v2_x0_5(pretrained=True)\n",
        "    self.cnn.fc = torch.nn.Sequential(*(list(self.cnn.fc.children())[:-1]))\n",
        "\n",
        "    for i, child in enumerate(self.cnn.children()):\n",
        "      for param in child.parameters():\n",
        "        param.requires_grad = i >= 4\n",
        "\n",
        "    self.cnn_bn = nn.BatchNorm1d(1024)\n",
        "\n",
        "    # Dense layers\n",
        "    self.dense = nn.Sequential(\n",
        "      nn.Dropout(0.3),\n",
        "      nn.Linear(1024, 100),\n",
        "      nn.ReLU(),\n",
        "      nn.Dropout(0.3),\n",
        "      nn.Linear(100, 4)\n",
        "    )\n",
        "\n",
        "\n",
        "  def forward(self, input):\n",
        "    # CNN layers\n",
        "    cnn_out = self.cnn(input)\n",
        "    cnn_out = self.cnn_bn(cnn_out)\n",
        "\n",
        "    # FC layers\n",
        "    out = self.dense(cnn_out)\n",
        "\n",
        "    return out"
      ],
      "metadata": {
        "id": "xLzN8DHHpisi"
      },
      "execution_count": null,
      "outputs": []
    },
    {
      "cell_type": "code",
      "source": [
        "device = torch.device('cuda' if torch.cuda.is_available() else 'cpu')\n",
        "\n",
        "device"
      ],
      "metadata": {
        "colab": {
          "base_uri": "https://localhost:8080/"
        },
        "id": "7WVUD_1_qsuG",
        "outputId": "01ba0a06-fc80-4399-e509-fe4feedefbc2"
      },
      "execution_count": null,
      "outputs": [
        {
          "output_type": "execute_result",
          "data": {
            "text/plain": [
              "device(type='cuda')"
            ]
          },
          "metadata": {},
          "execution_count": 12
        }
      ]
    },
    {
      "cell_type": "code",
      "source": [
        "def initiate_model():\n",
        "  model = NeuralNet()\n",
        "  model.to(device)\n",
        "\n",
        "  tensor_class_weights = torch.tensor(class_weights).float().to(device)\n",
        "\n",
        "  criterion = nn.CrossEntropyLoss(\n",
        "      weight=tensor_class_weights,\n",
        "      reduction='mean'\n",
        "  )\n",
        "\n",
        "  optimizer = torch.optim.Adam(\n",
        "      model.parameters(),\n",
        "      lr=learning_rate,\n",
        "      weight_decay=1e-3\n",
        "  )\n",
        "\n",
        "  scheduler = lr_scheduler.LinearLR(\n",
        "      optimizer,\n",
        "      start_factor=1.0,\n",
        "      end_factor=0.5,\n",
        "      total_iters=num_epochs//2\n",
        "  )\n",
        "\n",
        "  return model, criterion, optimizer, scheduler"
      ],
      "metadata": {
        "id": "KnqdvMukq6Wi"
      },
      "execution_count": null,
      "outputs": []
    },
    {
      "cell_type": "markdown",
      "source": [
        "# Train the model"
      ],
      "metadata": {
        "id": "G99eV-6yAKys"
      }
    },
    {
      "cell_type": "code",
      "source": [
        "train_loss = []\n",
        "val_loss = []\n",
        "\n",
        "train_acc = []\n",
        "val_acc = []\n",
        "\n",
        "trained_models = []\n",
        "\n",
        "torch.autograd.set_detect_anomaly(True)\n",
        "\n",
        "for fold, (train_ids, val_ids) in enumerate(kfold.split(train_dataset)):\n",
        "\n",
        "  print(f'\\nTraining on fold {fold + 1}')\n",
        "  print('--------------------------------')\n",
        "\n",
        "  # prepare the data loaders\n",
        "  train_loader = torch.utils.data.DataLoader(\n",
        "    WrapperDataset(train_dataset, 'train'),\n",
        "    batch_size=batch_size,\n",
        "    sampler=torch.utils.data.SubsetRandomSampler(train_ids)\n",
        "  )\n",
        "\n",
        "  val_loader = torch.utils.data.DataLoader(\n",
        "    WrapperDataset(train_dataset, 'val'),\n",
        "    batch_size=batch_size,\n",
        "    sampler=torch.utils.data.SubsetRandomSampler(val_ids)\n",
        "  )\n",
        "\n",
        "  # initiate the model\n",
        "  model, criterion, optimizer, scheduler = initiate_model()\n",
        "\n",
        "  # initiate the metrics array\n",
        "  fold_train_loss = []\n",
        "  fold_val_loss = []\n",
        "\n",
        "  fold_train_acc = []\n",
        "  fold_val_acc = []\n",
        "\n",
        "  for e in tqdm(range(num_epochs)):\n",
        "\n",
        "    # training\n",
        "    model.train()\n",
        "\n",
        "    avg_loss, total_samples, acc = 0, 0, 0\n",
        "    for train_data in train_loader:\n",
        "\n",
        "      img_train = train_data[\"images\"].to(device)\n",
        "      label_train = train_data[\"labels\"].to(device)\n",
        "\n",
        "      optimizer.zero_grad()\n",
        "\n",
        "      label_pred = model(img_train)\n",
        "\n",
        "      loss = criterion(label_pred, label_train)\n",
        "\n",
        "      loss.backward()\n",
        "      torch.nn.utils.clip_grad_norm_(model.parameters(), 1.0)\n",
        "      optimizer.step()\n",
        "\n",
        "      avg_loss += loss.item()\n",
        "      total_samples += len(img_train)\n",
        "      acc += torch.sum(torch.argmax(label_pred, axis=-1) == label_train).item()\n",
        "\n",
        "    fold_train_loss.append(avg_loss / len(train_loader))\n",
        "    fold_train_acc.append(acc / total_samples)\n",
        "\n",
        "    # evaluation\n",
        "    model.eval()\n",
        "    with torch.no_grad():\n",
        "      avg_loss, total_samples, acc = 0, 0, 0\n",
        "      for val_data in val_loader:\n",
        "\n",
        "        img_val = val_data[\"images\"].to(device)\n",
        "        label_val = val_data[\"labels\"].to(device)\n",
        "\n",
        "        label_pred = model(img_val)\n",
        "\n",
        "        loss = criterion(label_pred, label_val)\n",
        "\n",
        "        avg_loss += loss.item()\n",
        "        total_samples += len(img_val)\n",
        "        acc += torch.sum(torch.argmax(label_pred, axis=-1) == label_val).item()\n",
        "\n",
        "      fold_val_loss.append(avg_loss / len(val_loader))\n",
        "      fold_val_acc.append(acc / total_samples)\n",
        "\n",
        "    print(f\"\\nLR: {scheduler.get_last_lr()} - Train Accuracy: {fold_train_acc[-1]} - Validation Accuracy: {fold_val_acc[-1]}\")\n",
        "\n",
        "    scheduler.step()\n",
        "\n",
        "  train_loss.append(fold_train_loss)\n",
        "  val_loss.append(fold_val_loss)\n",
        "\n",
        "  train_acc.append(fold_train_acc)\n",
        "  val_acc.append(fold_val_acc)\n",
        "\n",
        "  trained_models.append(model)\n"
      ],
      "metadata": {
        "colab": {
          "base_uri": "https://localhost:8080/"
        },
        "id": "loRgOwk3rBPu",
        "outputId": "49e33cd1-3d04-4908-af52-5f8cc008a5c7"
      },
      "execution_count": null,
      "outputs": [
        {
          "output_type": "stream",
          "name": "stdout",
          "text": [
            "\n",
            "Training on fold 1\n",
            "--------------------------------\n"
          ]
        },
        {
          "output_type": "stream",
          "name": "stderr",
          "text": [
            " 10%|█         | 1/10 [00:33<04:58, 33.14s/it]"
          ]
        },
        {
          "output_type": "stream",
          "name": "stdout",
          "text": [
            "\n",
            "LR: [0.0005] - Train Accuracy: 0.8653696498054475 - Validation Accuracy: 0.9370629370629371\n"
          ]
        },
        {
          "output_type": "stream",
          "name": "stderr",
          "text": [
            "\r 20%|██        | 2/10 [01:06<04:28, 33.56s/it]"
          ]
        },
        {
          "output_type": "stream",
          "name": "stdout",
          "text": [
            "\n",
            "LR: [0.00045000000000000004] - Train Accuracy: 0.9342412451361868 - Validation Accuracy: 0.9685314685314685\n"
          ]
        },
        {
          "output_type": "stream",
          "name": "stderr",
          "text": [
            "\r 30%|███       | 3/10 [01:41<03:56, 33.76s/it]"
          ]
        },
        {
          "output_type": "stream",
          "name": "stdout",
          "text": [
            "\n",
            "LR: [0.0004] - Train Accuracy: 0.9573929961089495 - Validation Accuracy: 0.9755244755244755\n"
          ]
        },
        {
          "output_type": "stream",
          "name": "stderr",
          "text": [
            "\r 40%|████      | 4/10 [02:14<03:21, 33.66s/it]"
          ]
        },
        {
          "output_type": "stream",
          "name": "stdout",
          "text": [
            "\n",
            "LR: [0.00035] - Train Accuracy: 0.9673151750972763 - Validation Accuracy: 0.986013986013986\n"
          ]
        },
        {
          "output_type": "stream",
          "name": "stderr",
          "text": [
            "\r 50%|█████     | 5/10 [02:49<02:51, 34.24s/it]"
          ]
        },
        {
          "output_type": "stream",
          "name": "stdout",
          "text": [
            "\n",
            "LR: [0.00030000000000000003] - Train Accuracy: 0.9772373540856031 - Validation Accuracy: 0.9807692307692307\n"
          ]
        },
        {
          "output_type": "stream",
          "name": "stderr",
          "text": [
            "\r 60%|██████    | 6/10 [03:23<02:16, 34.19s/it]"
          ]
        },
        {
          "output_type": "stream",
          "name": "stdout",
          "text": [
            "\n",
            "LR: [0.00025000000000000006] - Train Accuracy: 0.9749027237354085 - Validation Accuracy: 0.9895104895104895\n"
          ]
        },
        {
          "output_type": "stream",
          "name": "stderr",
          "text": [
            "\r 70%|███████   | 7/10 [03:57<01:41, 33.86s/it]"
          ]
        },
        {
          "output_type": "stream",
          "name": "stdout",
          "text": [
            "\n",
            "LR: [0.00025000000000000006] - Train Accuracy: 0.9842412451361867 - Validation Accuracy: 0.9895104895104895\n"
          ]
        },
        {
          "output_type": "stream",
          "name": "stderr",
          "text": [
            "\r 80%|████████  | 8/10 [04:30<01:07, 33.87s/it]"
          ]
        },
        {
          "output_type": "stream",
          "name": "stdout",
          "text": [
            "\n",
            "LR: [0.00025000000000000006] - Train Accuracy: 0.9828793774319066 - Validation Accuracy: 0.9912587412587412\n"
          ]
        },
        {
          "output_type": "stream",
          "name": "stderr",
          "text": [
            "\r 90%|█████████ | 9/10 [05:04<00:33, 33.71s/it]"
          ]
        },
        {
          "output_type": "stream",
          "name": "stdout",
          "text": [
            "\n",
            "LR: [0.00025000000000000006] - Train Accuracy: 0.9873540856031129 - Validation Accuracy: 0.993006993006993\n"
          ]
        },
        {
          "output_type": "stream",
          "name": "stderr",
          "text": [
            "100%|██████████| 10/10 [05:37<00:00, 33.78s/it]\n"
          ]
        },
        {
          "output_type": "stream",
          "name": "stdout",
          "text": [
            "\n",
            "LR: [0.00025000000000000006] - Train Accuracy: 0.9873540856031129 - Validation Accuracy: 0.986013986013986\n",
            "\n",
            "Training on fold 2\n",
            "--------------------------------\n"
          ]
        },
        {
          "output_type": "stream",
          "name": "stderr",
          "text": [
            " 10%|█         | 1/10 [00:33<05:04, 33.80s/it]"
          ]
        },
        {
          "output_type": "stream",
          "name": "stdout",
          "text": [
            "\n",
            "LR: [0.0005] - Train Accuracy: 0.8583657587548638 - Validation Accuracy: 0.9248251748251748\n"
          ]
        },
        {
          "output_type": "stream",
          "name": "stderr",
          "text": [
            "\r 20%|██        | 2/10 [01:07<04:27, 33.45s/it]"
          ]
        },
        {
          "output_type": "stream",
          "name": "stdout",
          "text": [
            "\n",
            "LR: [0.00045000000000000004] - Train Accuracy: 0.93715953307393 - Validation Accuracy: 0.9597902097902098\n"
          ]
        },
        {
          "output_type": "stream",
          "name": "stderr",
          "text": [
            "\r 30%|███       | 3/10 [01:40<03:54, 33.51s/it]"
          ]
        },
        {
          "output_type": "stream",
          "name": "stdout",
          "text": [
            "\n",
            "LR: [0.0004] - Train Accuracy: 0.954863813229572 - Validation Accuracy: 0.9667832167832168\n"
          ]
        },
        {
          "output_type": "stream",
          "name": "stderr",
          "text": [
            "\r 40%|████      | 4/10 [02:15<03:23, 33.96s/it]"
          ]
        },
        {
          "output_type": "stream",
          "name": "stdout",
          "text": [
            "\n",
            "LR: [0.00035] - Train Accuracy: 0.9700389105058366 - Validation Accuracy: 0.9685314685314685\n"
          ]
        },
        {
          "output_type": "stream",
          "name": "stderr",
          "text": [
            "\r 50%|█████     | 5/10 [02:48<02:47, 33.54s/it]"
          ]
        },
        {
          "output_type": "stream",
          "name": "stdout",
          "text": [
            "\n",
            "LR: [0.00030000000000000003] - Train Accuracy: 0.9770428015564202 - Validation Accuracy: 0.9737762237762237\n"
          ]
        },
        {
          "output_type": "stream",
          "name": "stderr",
          "text": [
            "\r 60%|██████    | 6/10 [03:21<02:14, 33.51s/it]"
          ]
        },
        {
          "output_type": "stream",
          "name": "stdout",
          "text": [
            "\n",
            "LR: [0.00025000000000000006] - Train Accuracy: 0.9813229571984435 - Validation Accuracy: 0.9755244755244755\n"
          ]
        },
        {
          "output_type": "stream",
          "name": "stderr",
          "text": [
            "\r 70%|███████   | 7/10 [03:55<01:40, 33.52s/it]"
          ]
        },
        {
          "output_type": "stream",
          "name": "stdout",
          "text": [
            "\n",
            "LR: [0.00025000000000000006] - Train Accuracy: 0.9854085603112841 - Validation Accuracy: 0.972027972027972\n"
          ]
        },
        {
          "output_type": "stream",
          "name": "stderr",
          "text": [
            "\r 80%|████████  | 8/10 [04:27<01:06, 33.27s/it]"
          ]
        },
        {
          "output_type": "stream",
          "name": "stdout",
          "text": [
            "\n",
            "LR: [0.00025000000000000006] - Train Accuracy: 0.9846303501945526 - Validation Accuracy: 0.9755244755244755\n"
          ]
        },
        {
          "output_type": "stream",
          "name": "stderr",
          "text": [
            "\r 90%|█████████ | 9/10 [05:01<00:33, 33.40s/it]"
          ]
        },
        {
          "output_type": "stream",
          "name": "stdout",
          "text": [
            "\n",
            "LR: [0.00025000000000000006] - Train Accuracy: 0.9852140077821012 - Validation Accuracy: 0.9737762237762237\n"
          ]
        },
        {
          "output_type": "stream",
          "name": "stderr",
          "text": [
            "100%|██████████| 10/10 [05:35<00:00, 33.52s/it]\n"
          ]
        },
        {
          "output_type": "stream",
          "name": "stdout",
          "text": [
            "\n",
            "LR: [0.00025000000000000006] - Train Accuracy: 0.9883268482490273 - Validation Accuracy: 0.9685314685314685\n",
            "\n",
            "Training on fold 3\n",
            "--------------------------------\n"
          ]
        },
        {
          "output_type": "stream",
          "name": "stderr",
          "text": [
            " 10%|█         | 1/10 [00:32<04:52, 32.52s/it]"
          ]
        },
        {
          "output_type": "stream",
          "name": "stdout",
          "text": [
            "\n",
            "LR: [0.0005] - Train Accuracy: 0.8620890877261234 - Validation Accuracy: 0.9369527145359019\n"
          ]
        },
        {
          "output_type": "stream",
          "name": "stderr",
          "text": [
            "\r 20%|██        | 2/10 [01:06<04:26, 33.27s/it]"
          ]
        },
        {
          "output_type": "stream",
          "name": "stdout",
          "text": [
            "\n",
            "LR: [0.00045000000000000004] - Train Accuracy: 0.9352266096090255 - Validation Accuracy: 0.9614711033274956\n"
          ]
        },
        {
          "output_type": "stream",
          "name": "stderr",
          "text": [
            "\r 30%|███       | 3/10 [01:40<03:54, 33.52s/it]"
          ]
        },
        {
          "output_type": "stream",
          "name": "stdout",
          "text": [
            "\n",
            "LR: [0.0004] - Train Accuracy: 0.9531219607080335 - Validation Accuracy: 0.9737302977232924\n"
          ]
        },
        {
          "output_type": "stream",
          "name": "stderr",
          "text": [
            "\r 40%|████      | 4/10 [02:13<03:20, 33.48s/it]"
          ]
        },
        {
          "output_type": "stream",
          "name": "stdout",
          "text": [
            "\n",
            "LR: [0.00035] - Train Accuracy: 0.9632367243726901 - Validation Accuracy: 0.9842381786339754\n"
          ]
        },
        {
          "output_type": "stream",
          "name": "stderr",
          "text": [
            "\r 50%|█████     | 5/10 [02:47<02:47, 33.49s/it]"
          ]
        },
        {
          "output_type": "stream",
          "name": "stdout",
          "text": [
            "\n",
            "LR: [0.00030000000000000003] - Train Accuracy: 0.9747130908383583 - Validation Accuracy: 0.9842381786339754\n"
          ]
        },
        {
          "output_type": "stream",
          "name": "stderr",
          "text": [
            "\r 60%|██████    | 6/10 [03:19<02:12, 33.14s/it]"
          ]
        },
        {
          "output_type": "stream",
          "name": "stdout",
          "text": [
            "\n",
            "LR: [0.00025000000000000006] - Train Accuracy: 0.9770472670686637 - Validation Accuracy: 0.9877408056042032\n"
          ]
        },
        {
          "output_type": "stream",
          "name": "stderr",
          "text": [
            "\r 70%|███████   | 7/10 [03:53<01:40, 33.37s/it]"
          ]
        },
        {
          "output_type": "stream",
          "name": "stdout",
          "text": [
            "\n",
            "LR: [0.00025000000000000006] - Train Accuracy: 0.9856059132464501 - Validation Accuracy: 0.9912434325744308\n"
          ]
        },
        {
          "output_type": "stream",
          "name": "stderr",
          "text": [
            "\r 80%|████████  | 8/10 [04:27<01:07, 33.51s/it]"
          ]
        },
        {
          "output_type": "stream",
          "name": "stdout",
          "text": [
            "\n",
            "LR: [0.00025000000000000006] - Train Accuracy: 0.9824936782727096 - Validation Accuracy: 0.9859894921190894\n"
          ]
        },
        {
          "output_type": "stream",
          "name": "stderr",
          "text": [
            "\r 90%|█████████ | 9/10 [04:59<00:33, 33.24s/it]"
          ]
        },
        {
          "output_type": "stream",
          "name": "stdout",
          "text": [
            "\n",
            "LR: [0.00025000000000000006] - Train Accuracy: 0.9863839719898853 - Validation Accuracy: 0.9912434325744308\n"
          ]
        },
        {
          "output_type": "stream",
          "name": "stderr",
          "text": [
            "100%|██████████| 10/10 [05:33<00:00, 33.32s/it]\n"
          ]
        },
        {
          "output_type": "stream",
          "name": "stdout",
          "text": [
            "\n",
            "LR: [0.00025000000000000006] - Train Accuracy: 0.9877455747908968 - Validation Accuracy: 0.989492119089317\n",
            "\n",
            "Training on fold 4\n",
            "--------------------------------\n"
          ]
        },
        {
          "output_type": "stream",
          "name": "stderr",
          "text": [
            " 10%|█         | 1/10 [00:32<04:52, 32.53s/it]"
          ]
        },
        {
          "output_type": "stream",
          "name": "stdout",
          "text": [
            "\n",
            "LR: [0.0005] - Train Accuracy: 0.8652013226998638 - Validation Accuracy: 0.9229422066549913\n"
          ]
        },
        {
          "output_type": "stream",
          "name": "stderr",
          "text": [
            "\r 20%|██        | 2/10 [01:06<04:28, 33.62s/it]"
          ]
        },
        {
          "output_type": "stream",
          "name": "stdout",
          "text": [
            "\n",
            "LR: [0.00045000000000000004] - Train Accuracy: 0.9395059326979187 - Validation Accuracy: 0.9369527145359019\n"
          ]
        },
        {
          "output_type": "stream",
          "name": "stderr",
          "text": [
            "\r 30%|███       | 3/10 [01:40<03:54, 33.45s/it]"
          ]
        },
        {
          "output_type": "stream",
          "name": "stdout",
          "text": [
            "\n",
            "LR: [0.0004] - Train Accuracy: 0.9564287103676328 - Validation Accuracy: 0.9457092819614711\n"
          ]
        },
        {
          "output_type": "stream",
          "name": "stderr",
          "text": [
            "\r 40%|████      | 4/10 [02:12<03:18, 33.09s/it]"
          ]
        },
        {
          "output_type": "stream",
          "name": "stdout",
          "text": [
            "\n",
            "LR: [0.00035] - Train Accuracy: 0.9675160474615834 - Validation Accuracy: 0.9544658493870403\n"
          ]
        },
        {
          "output_type": "stream",
          "name": "stderr",
          "text": [
            "\r 50%|█████     | 5/10 [02:45<02:45, 33.12s/it]"
          ]
        },
        {
          "output_type": "stream",
          "name": "stdout",
          "text": [
            "\n",
            "LR: [0.00030000000000000003] - Train Accuracy: 0.9762692083252286 - Validation Accuracy: 0.9649737302977233\n"
          ]
        },
        {
          "output_type": "stream",
          "name": "stderr",
          "text": [
            "\r 60%|██████    | 6/10 [03:18<02:12, 33.07s/it]"
          ]
        },
        {
          "output_type": "stream",
          "name": "stdout",
          "text": [
            "\n",
            "LR: [0.00025000000000000006] - Train Accuracy: 0.9799649873565455 - Validation Accuracy: 0.9702276707530648\n"
          ]
        },
        {
          "output_type": "stream",
          "name": "stderr",
          "text": [
            "\r 70%|███████   | 7/10 [03:52<01:40, 33.39s/it]"
          ]
        },
        {
          "output_type": "stream",
          "name": "stdout",
          "text": [
            "\n",
            "LR: [0.00025000000000000006] - Train Accuracy: 0.9856059132464501 - Validation Accuracy: 0.9702276707530648\n"
          ]
        },
        {
          "output_type": "stream",
          "name": "stderr",
          "text": [
            "\r 80%|████████  | 8/10 [04:28<01:07, 33.99s/it]"
          ]
        },
        {
          "output_type": "stream",
          "name": "stdout",
          "text": [
            "\n",
            "LR: [0.00025000000000000006] - Train Accuracy: 0.9879400894767555 - Validation Accuracy: 0.9737302977232924\n"
          ]
        },
        {
          "output_type": "stream",
          "name": "stderr",
          "text": [
            "\r 90%|█████████ | 9/10 [05:02<00:34, 34.25s/it]"
          ]
        },
        {
          "output_type": "stream",
          "name": "stdout",
          "text": [
            "\n",
            "LR: [0.00025000000000000006] - Train Accuracy: 0.9854113985605913 - Validation Accuracy: 0.9719789842381786\n"
          ]
        },
        {
          "output_type": "stream",
          "name": "stderr",
          "text": [
            "100%|██████████| 10/10 [05:37<00:00, 33.70s/it]\n"
          ]
        },
        {
          "output_type": "stream",
          "name": "stdout",
          "text": [
            "\n",
            "LR: [0.00025000000000000006] - Train Accuracy: 0.9863839719898853 - Validation Accuracy: 0.9754816112084063\n",
            "\n",
            "Training on fold 5\n",
            "--------------------------------\n"
          ]
        },
        {
          "output_type": "stream",
          "name": "stderr",
          "text": [
            " 10%|█         | 1/10 [00:35<05:17, 35.32s/it]"
          ]
        },
        {
          "output_type": "stream",
          "name": "stdout",
          "text": [
            "\n",
            "LR: [0.0005] - Train Accuracy: 0.8652013226998638 - Validation Accuracy: 0.9369527145359019\n"
          ]
        },
        {
          "output_type": "stream",
          "name": "stderr",
          "text": [
            "\r 20%|██        | 2/10 [01:09<04:38, 34.75s/it]"
          ]
        },
        {
          "output_type": "stream",
          "name": "stdout",
          "text": [
            "\n",
            "LR: [0.00045000000000000004] - Train Accuracy: 0.936588212410037 - Validation Accuracy: 0.9544658493870403\n"
          ]
        },
        {
          "output_type": "stream",
          "name": "stderr",
          "text": [
            "\r 30%|███       | 3/10 [01:42<03:58, 34.07s/it]"
          ]
        },
        {
          "output_type": "stream",
          "name": "stdout",
          "text": [
            "\n",
            "LR: [0.0004] - Train Accuracy: 0.9550671075666213 - Validation Accuracy: 0.9702276707530648\n"
          ]
        },
        {
          "output_type": "stream",
          "name": "stderr",
          "text": [
            "\r 40%|████      | 4/10 [02:16<03:24, 34.03s/it]"
          ]
        },
        {
          "output_type": "stream",
          "name": "stdout",
          "text": [
            "\n",
            "LR: [0.00035] - Train Accuracy: 0.9661544446605719 - Validation Accuracy: 0.9772329246935202\n"
          ]
        },
        {
          "output_type": "stream",
          "name": "stderr",
          "text": [
            "\r 50%|█████     | 5/10 [02:51<02:50, 34.10s/it]"
          ]
        },
        {
          "output_type": "stream",
          "name": "stdout",
          "text": [
            "\n",
            "LR: [0.00030000000000000003] - Train Accuracy: 0.9745185761524995 - Validation Accuracy: 0.9807355516637478\n"
          ]
        },
        {
          "output_type": "stream",
          "name": "stderr",
          "text": [
            "\r 60%|██████    | 6/10 [03:24<02:14, 33.69s/it]"
          ]
        },
        {
          "output_type": "stream",
          "name": "stdout",
          "text": [
            "\n",
            "LR: [0.00025000000000000006] - Train Accuracy: 0.9801595020424042 - Validation Accuracy: 0.9859894921190894\n"
          ]
        },
        {
          "output_type": "stream",
          "name": "stderr",
          "text": [
            "\r 70%|███████   | 7/10 [03:57<01:41, 33.77s/it]"
          ]
        },
        {
          "output_type": "stream",
          "name": "stdout",
          "text": [
            "\n",
            "LR: [0.00025000000000000006] - Train Accuracy: 0.984827854503015 - Validation Accuracy: 0.9842381786339754\n"
          ]
        },
        {
          "output_type": "stream",
          "name": "stderr",
          "text": [
            "\r 80%|████████  | 8/10 [04:31<01:07, 33.65s/it]"
          ]
        },
        {
          "output_type": "stream",
          "name": "stdout",
          "text": [
            "\n",
            "LR: [0.00025000000000000006] - Train Accuracy: 0.9824936782727096 - Validation Accuracy: 0.9842381786339754\n"
          ]
        },
        {
          "output_type": "stream",
          "name": "stderr",
          "text": [
            "\r 90%|█████████ | 9/10 [05:04<00:33, 33.46s/it]"
          ]
        },
        {
          "output_type": "stream",
          "name": "stdout",
          "text": [
            "\n",
            "LR: [0.00025000000000000006] - Train Accuracy: 0.9883291188484731 - Validation Accuracy: 0.9842381786339754\n"
          ]
        },
        {
          "output_type": "stream",
          "name": "stderr",
          "text": [
            "100%|██████████| 10/10 [05:38<00:00, 33.88s/it]\n"
          ]
        },
        {
          "output_type": "stream",
          "name": "stdout",
          "text": [
            "\n",
            "LR: [0.00025000000000000006] - Train Accuracy: 0.9871620307333203 - Validation Accuracy: 0.9859894921190894\n",
            "\n",
            "Training on fold 6\n",
            "--------------------------------\n"
          ]
        },
        {
          "output_type": "stream",
          "name": "stderr",
          "text": [
            " 10%|█         | 1/10 [00:32<04:52, 32.51s/it]"
          ]
        },
        {
          "output_type": "stream",
          "name": "stdout",
          "text": [
            "\n",
            "LR: [0.0005] - Train Accuracy: 0.8607274849251119 - Validation Accuracy: 0.9404553415061296\n"
          ]
        },
        {
          "output_type": "stream",
          "name": "stderr",
          "text": [
            "\r 20%|██        | 2/10 [01:05<04:24, 33.06s/it]"
          ]
        },
        {
          "output_type": "stream",
          "name": "stdout",
          "text": [
            "\n",
            "LR: [0.00045000000000000004] - Train Accuracy: 0.9437852557868119 - Validation Accuracy: 0.9562171628721541\n"
          ]
        },
        {
          "output_type": "stream",
          "name": "stderr",
          "text": [
            "\r 30%|███       | 3/10 [01:39<03:52, 33.28s/it]"
          ]
        },
        {
          "output_type": "stream",
          "name": "stdout",
          "text": [
            "\n",
            "LR: [0.0004] - Train Accuracy: 0.9609025481423847 - Validation Accuracy: 0.968476357267951\n"
          ]
        },
        {
          "output_type": "stream",
          "name": "stderr",
          "text": [
            "\r 40%|████      | 4/10 [02:12<03:18, 33.01s/it]"
          ]
        },
        {
          "output_type": "stream",
          "name": "stdout",
          "text": [
            "\n",
            "LR: [0.00035] - Train Accuracy: 0.9690721649484536 - Validation Accuracy: 0.9719789842381786\n"
          ]
        },
        {
          "output_type": "stream",
          "name": "stderr",
          "text": [
            "\r 50%|█████     | 5/10 [02:45<02:45, 33.11s/it]"
          ]
        },
        {
          "output_type": "stream",
          "name": "stdout",
          "text": [
            "\n",
            "LR: [0.00030000000000000003] - Train Accuracy: 0.9782143551838164 - Validation Accuracy: 0.968476357267951\n"
          ]
        },
        {
          "output_type": "stream",
          "name": "stderr",
          "text": [
            "\r 60%|██████    | 6/10 [03:18<02:12, 33.05s/it]"
          ]
        },
        {
          "output_type": "stream",
          "name": "stdout",
          "text": [
            "\n",
            "LR: [0.00025000000000000006] - Train Accuracy: 0.9801595020424042 - Validation Accuracy: 0.9702276707530648\n"
          ]
        },
        {
          "output_type": "stream",
          "name": "stderr",
          "text": [
            "\r 70%|███████   | 7/10 [03:51<01:39, 33.03s/it]"
          ]
        },
        {
          "output_type": "stream",
          "name": "stdout",
          "text": [
            "\n",
            "LR: [0.00025000000000000006] - Train Accuracy: 0.9817156195292744 - Validation Accuracy: 0.9754816112084063\n"
          ]
        },
        {
          "output_type": "stream",
          "name": "stderr",
          "text": [
            "\r 80%|████████  | 8/10 [04:24<01:06, 33.15s/it]"
          ]
        },
        {
          "output_type": "stream",
          "name": "stdout",
          "text": [
            "\n",
            "LR: [0.00025000000000000006] - Train Accuracy: 0.9852168838747325 - Validation Accuracy: 0.9719789842381786\n"
          ]
        },
        {
          "output_type": "stream",
          "name": "stderr",
          "text": [
            "\r 90%|█████████ | 9/10 [04:57<00:33, 33.17s/it]"
          ]
        },
        {
          "output_type": "stream",
          "name": "stdout",
          "text": [
            "\n",
            "LR: [0.00025000000000000006] - Train Accuracy: 0.989301692277767 - Validation Accuracy: 0.9754816112084063\n"
          ]
        },
        {
          "output_type": "stream",
          "name": "stderr",
          "text": [
            "100%|██████████| 10/10 [05:31<00:00, 33.11s/it]\n"
          ]
        },
        {
          "output_type": "stream",
          "name": "stdout",
          "text": [
            "\n",
            "LR: [0.00025000000000000006] - Train Accuracy: 0.9883291188484731 - Validation Accuracy: 0.9754816112084063\n",
            "\n",
            "Training on fold 7\n",
            "--------------------------------\n"
          ]
        },
        {
          "output_type": "stream",
          "name": "stderr",
          "text": [
            " 10%|█         | 1/10 [00:33<04:58, 33.21s/it]"
          ]
        },
        {
          "output_type": "stream",
          "name": "stdout",
          "text": [
            "\n",
            "LR: [0.0005] - Train Accuracy: 0.8615055436685469 - Validation Accuracy: 0.9352014010507881\n"
          ]
        },
        {
          "output_type": "stream",
          "name": "stderr",
          "text": [
            "\r 20%|██        | 2/10 [01:05<04:22, 32.76s/it]"
          ]
        },
        {
          "output_type": "stream",
          "name": "stdout",
          "text": [
            "\n",
            "LR: [0.00045000000000000004] - Train Accuracy: 0.9393114180120599 - Validation Accuracy: 0.9492119089316988\n"
          ]
        },
        {
          "output_type": "stream",
          "name": "stderr",
          "text": [
            "\r 30%|███       | 3/10 [01:39<03:53, 33.35s/it]"
          ]
        },
        {
          "output_type": "stream",
          "name": "stdout",
          "text": [
            "\n",
            "LR: [0.0004] - Train Accuracy: 0.9562341956817739 - Validation Accuracy: 0.9702276707530648\n"
          ]
        },
        {
          "output_type": "stream",
          "name": "stderr",
          "text": [
            "\r 40%|████      | 4/10 [02:12<03:17, 32.99s/it]"
          ]
        },
        {
          "output_type": "stream",
          "name": "stdout",
          "text": [
            "\n",
            "LR: [0.00035] - Train Accuracy: 0.9677105621474421 - Validation Accuracy: 0.9807355516637478\n"
          ]
        },
        {
          "output_type": "stream",
          "name": "stderr",
          "text": [
            "\r 50%|█████     | 5/10 [02:45<02:45, 33.14s/it]"
          ]
        },
        {
          "output_type": "stream",
          "name": "stdout",
          "text": [
            "\n",
            "LR: [0.00030000000000000003] - Train Accuracy: 0.9768527523828049 - Validation Accuracy: 0.9754816112084063\n"
          ]
        },
        {
          "output_type": "stream",
          "name": "stderr",
          "text": [
            "\r 60%|██████    | 6/10 [03:18<02:12, 33.16s/it]"
          ]
        },
        {
          "output_type": "stream",
          "name": "stdout",
          "text": [
            "\n",
            "LR: [0.00025000000000000006] - Train Accuracy: 0.9819101342151333 - Validation Accuracy: 0.9772329246935202\n"
          ]
        },
        {
          "output_type": "stream",
          "name": "stderr",
          "text": [
            "\r 70%|███████   | 7/10 [03:51<01:38, 32.88s/it]"
          ]
        },
        {
          "output_type": "stream",
          "name": "stdout",
          "text": [
            "\n",
            "LR: [0.00025000000000000006] - Train Accuracy: 0.9822991635868508 - Validation Accuracy: 0.9807355516637478\n"
          ]
        },
        {
          "output_type": "stream",
          "name": "stderr",
          "text": [
            "\r 80%|████████  | 8/10 [04:25<01:06, 33.36s/it]"
          ]
        },
        {
          "output_type": "stream",
          "name": "stdout",
          "text": [
            "\n",
            "LR: [0.00025000000000000006] - Train Accuracy: 0.9830772223302859 - Validation Accuracy: 0.9842381786339754\n"
          ]
        },
        {
          "output_type": "stream",
          "name": "stderr",
          "text": [
            "\r 90%|█████████ | 9/10 [04:57<00:33, 33.07s/it]"
          ]
        },
        {
          "output_type": "stream",
          "name": "stdout",
          "text": [
            "\n",
            "LR: [0.00025000000000000006] - Train Accuracy: 0.9891071775919081 - Validation Accuracy: 0.9824868651488616\n"
          ]
        },
        {
          "output_type": "stream",
          "name": "stderr",
          "text": [
            "100%|██████████| 10/10 [05:30<00:00, 33.07s/it]\n"
          ]
        },
        {
          "output_type": "stream",
          "name": "stdout",
          "text": [
            "\n",
            "LR: [0.00025000000000000006] - Train Accuracy: 0.9875510601050379 - Validation Accuracy: 0.9807355516637478\n",
            "\n",
            "Training on fold 8\n",
            "--------------------------------\n"
          ]
        },
        {
          "output_type": "stream",
          "name": "stderr",
          "text": [
            " 10%|█         | 1/10 [00:33<04:58, 33.16s/it]"
          ]
        },
        {
          "output_type": "stream",
          "name": "stdout",
          "text": [
            "\n",
            "LR: [0.0005] - Train Accuracy: 0.8624781170978408 - Validation Accuracy: 0.9352014010507881\n"
          ]
        },
        {
          "output_type": "stream",
          "name": "stderr",
          "text": [
            "\r 20%|██        | 2/10 [01:05<04:20, 32.61s/it]"
          ]
        },
        {
          "output_type": "stream",
          "name": "stdout",
          "text": [
            "\n",
            "LR: [0.00045000000000000004] - Train Accuracy: 0.9395059326979187 - Validation Accuracy: 0.9614711033274956\n"
          ]
        },
        {
          "output_type": "stream",
          "name": "stderr",
          "text": [
            "\r 30%|███       | 3/10 [01:38<03:49, 32.74s/it]"
          ]
        },
        {
          "output_type": "stream",
          "name": "stdout",
          "text": [
            "\n",
            "LR: [0.0004] - Train Accuracy: 0.9550671075666213 - Validation Accuracy: 0.9544658493870403\n"
          ]
        },
        {
          "output_type": "stream",
          "name": "stderr",
          "text": [
            "\r 40%|████      | 4/10 [02:10<03:15, 32.56s/it]"
          ]
        },
        {
          "output_type": "stream",
          "name": "stdout",
          "text": [
            "\n",
            "LR: [0.00035] - Train Accuracy: 0.9684886208908773 - Validation Accuracy: 0.9614711033274956\n"
          ]
        },
        {
          "output_type": "stream",
          "name": "stderr",
          "text": [
            "\r 50%|█████     | 5/10 [02:43<02:44, 32.87s/it]"
          ]
        },
        {
          "output_type": "stream",
          "name": "stdout",
          "text": [
            "\n",
            "LR: [0.00030000000000000003] - Train Accuracy: 0.971406341178759 - Validation Accuracy: 0.9702276707530648\n"
          ]
        },
        {
          "output_type": "stream",
          "name": "stderr",
          "text": [
            "\r 60%|██████    | 6/10 [03:17<02:12, 33.04s/it]"
          ]
        },
        {
          "output_type": "stream",
          "name": "stdout",
          "text": [
            "\n",
            "LR: [0.00025000000000000006] - Train Accuracy: 0.9850223691888738 - Validation Accuracy: 0.9737302977232924\n"
          ]
        },
        {
          "output_type": "stream",
          "name": "stderr",
          "text": [
            "\r 70%|███████   | 7/10 [03:50<01:39, 33.18s/it]"
          ]
        },
        {
          "output_type": "stream",
          "name": "stdout",
          "text": [
            "\n",
            "LR: [0.00025000000000000006] - Train Accuracy: 0.9832717370161447 - Validation Accuracy: 0.978984238178634\n"
          ]
        },
        {
          "output_type": "stream",
          "name": "stderr",
          "text": [
            "\r 80%|████████  | 8/10 [04:24<01:06, 33.26s/it]"
          ]
        },
        {
          "output_type": "stream",
          "name": "stdout",
          "text": [
            "\n",
            "LR: [0.00025000000000000006] - Train Accuracy: 0.9856059132464501 - Validation Accuracy: 0.9807355516637478\n"
          ]
        },
        {
          "output_type": "stream",
          "name": "stderr",
          "text": [
            "\r 90%|█████████ | 9/10 [04:57<00:33, 33.27s/it]"
          ]
        },
        {
          "output_type": "stream",
          "name": "stdout",
          "text": [
            "\n",
            "LR: [0.00025000000000000006] - Train Accuracy: 0.9852168838747325 - Validation Accuracy: 0.9824868651488616\n"
          ]
        },
        {
          "output_type": "stream",
          "name": "stderr",
          "text": [
            "100%|██████████| 10/10 [05:30<00:00, 33.03s/it]\n"
          ]
        },
        {
          "output_type": "stream",
          "name": "stdout",
          "text": [
            "\n",
            "LR: [0.00025000000000000006] - Train Accuracy: 0.9891071775919081 - Validation Accuracy: 0.9719789842381786\n",
            "\n",
            "Training on fold 9\n",
            "--------------------------------\n"
          ]
        },
        {
          "output_type": "stream",
          "name": "stderr",
          "text": [
            " 10%|█         | 1/10 [00:33<04:58, 33.22s/it]"
          ]
        },
        {
          "output_type": "stream",
          "name": "stdout",
          "text": [
            "\n",
            "LR: [0.0005] - Train Accuracy: 0.8591713674382416 - Validation Accuracy: 0.9281961471103327\n"
          ]
        },
        {
          "output_type": "stream",
          "name": "stderr",
          "text": [
            "\r 20%|██        | 2/10 [01:05<04:23, 32.95s/it]"
          ]
        },
        {
          "output_type": "stream",
          "name": "stdout",
          "text": [
            "\n",
            "LR: [0.00045000000000000004] - Train Accuracy: 0.9360046683524607 - Validation Accuracy: 0.957968476357268\n"
          ]
        },
        {
          "output_type": "stream",
          "name": "stderr",
          "text": [
            "\r 30%|███       | 3/10 [01:39<03:52, 33.15s/it]"
          ]
        },
        {
          "output_type": "stream",
          "name": "stdout",
          "text": [
            "\n",
            "LR: [0.0004] - Train Accuracy: 0.9546780781949037 - Validation Accuracy: 0.9667250437828371\n"
          ]
        },
        {
          "output_type": "stream",
          "name": "stderr",
          "text": [
            "\r 40%|████      | 4/10 [02:12<03:19, 33.20s/it]"
          ]
        },
        {
          "output_type": "stream",
          "name": "stdout",
          "text": [
            "\n",
            "LR: [0.00035] - Train Accuracy: 0.9690721649484536 - Validation Accuracy: 0.9632224168126094\n"
          ]
        },
        {
          "output_type": "stream",
          "name": "stderr",
          "text": [
            "\r 50%|█████     | 5/10 [02:45<02:46, 33.22s/it]"
          ]
        },
        {
          "output_type": "stream",
          "name": "stdout",
          "text": [
            "\n",
            "LR: [0.00030000000000000003] - Train Accuracy: 0.9735460027232056 - Validation Accuracy: 0.968476357267951\n"
          ]
        },
        {
          "output_type": "stream",
          "name": "stderr",
          "text": [
            "\r 60%|██████    | 6/10 [03:19<02:12, 33.24s/it]"
          ]
        },
        {
          "output_type": "stream",
          "name": "stdout",
          "text": [
            "\n",
            "LR: [0.00025000000000000006] - Train Accuracy: 0.9824936782727096 - Validation Accuracy: 0.9737302977232924\n"
          ]
        },
        {
          "output_type": "stream",
          "name": "stderr",
          "text": [
            "\r 70%|███████   | 7/10 [03:51<01:39, 33.02s/it]"
          ]
        },
        {
          "output_type": "stream",
          "name": "stdout",
          "text": [
            "\n",
            "LR: [0.00025000000000000006] - Train Accuracy: 0.9824936782727096 - Validation Accuracy: 0.9772329246935202\n"
          ]
        },
        {
          "output_type": "stream",
          "name": "stderr",
          "text": [
            "\r 80%|████████  | 8/10 [04:24<01:06, 33.02s/it]"
          ]
        },
        {
          "output_type": "stream",
          "name": "stdout",
          "text": [
            "\n",
            "LR: [0.00025000000000000006] - Train Accuracy: 0.9863839719898853 - Validation Accuracy: 0.9772329246935202\n"
          ]
        },
        {
          "output_type": "stream",
          "name": "stderr",
          "text": [
            "\r 90%|█████████ | 9/10 [04:58<00:33, 33.16s/it]"
          ]
        },
        {
          "output_type": "stream",
          "name": "stdout",
          "text": [
            "\n",
            "LR: [0.00025000000000000006] - Train Accuracy: 0.9861894573040264 - Validation Accuracy: 0.9737302977232924\n"
          ]
        },
        {
          "output_type": "stream",
          "name": "stderr",
          "text": [
            "100%|██████████| 10/10 [05:30<00:00, 33.04s/it]\n"
          ]
        },
        {
          "output_type": "stream",
          "name": "stdout",
          "text": [
            "\n",
            "LR: [0.00025000000000000006] - Train Accuracy: 0.9858004279323089 - Validation Accuracy: 0.9737302977232924\n",
            "\n",
            "Training on fold 10\n",
            "--------------------------------\n"
          ]
        },
        {
          "output_type": "stream",
          "name": "stderr",
          "text": [
            " 10%|█         | 1/10 [00:33<04:59, 33.24s/it]"
          ]
        },
        {
          "output_type": "stream",
          "name": "stdout",
          "text": [
            "\n",
            "LR: [0.0005] - Train Accuracy: 0.8640342345847112 - Validation Accuracy: 0.9316987740805605\n"
          ]
        },
        {
          "output_type": "stream",
          "name": "stderr",
          "text": [
            "\r 20%|██        | 2/10 [01:05<04:22, 32.77s/it]"
          ]
        },
        {
          "output_type": "stream",
          "name": "stdout",
          "text": [
            "\n",
            "LR: [0.00045000000000000004] - Train Accuracy: 0.9342540361797316 - Validation Accuracy: 0.9387040280210157\n"
          ]
        },
        {
          "output_type": "stream",
          "name": "stderr",
          "text": [
            "\r 30%|███       | 3/10 [01:38<03:50, 32.87s/it]"
          ]
        },
        {
          "output_type": "stream",
          "name": "stdout",
          "text": [
            "\n",
            "LR: [0.0004] - Train Accuracy: 0.95526162225248 - Validation Accuracy: 0.9667250437828371\n"
          ]
        },
        {
          "output_type": "stream",
          "name": "stderr",
          "text": [
            "\r 40%|████      | 4/10 [02:12<03:20, 33.43s/it]"
          ]
        },
        {
          "output_type": "stream",
          "name": "stdout",
          "text": [
            "\n",
            "LR: [0.00035] - Train Accuracy: 0.9663489593464306 - Validation Accuracy: 0.9632224168126094\n"
          ]
        },
        {
          "output_type": "stream",
          "name": "stderr",
          "text": [
            "\r 50%|█████     | 5/10 [02:45<02:45, 33.05s/it]"
          ]
        },
        {
          "output_type": "stream",
          "name": "stdout",
          "text": [
            "\n",
            "LR: [0.00030000000000000003] - Train Accuracy: 0.9721843999221941 - Validation Accuracy: 0.9649737302977233\n"
          ]
        },
        {
          "output_type": "stream",
          "name": "stderr",
          "text": [
            "\r 60%|██████    | 6/10 [03:18<02:12, 33.09s/it]"
          ]
        },
        {
          "output_type": "stream",
          "name": "stdout",
          "text": [
            "\n",
            "LR: [0.00025000000000000006] - Train Accuracy: 0.9778253258120988 - Validation Accuracy: 0.9807355516637478\n"
          ]
        },
        {
          "output_type": "stream",
          "name": "stderr",
          "text": [
            "\r 70%|███████   | 7/10 [03:50<01:38, 32.80s/it]"
          ]
        },
        {
          "output_type": "stream",
          "name": "stdout",
          "text": [
            "\n",
            "LR: [0.00025000000000000006] - Train Accuracy: 0.9822991635868508 - Validation Accuracy: 0.9842381786339754\n"
          ]
        },
        {
          "output_type": "stream",
          "name": "stderr",
          "text": [
            "\r 80%|████████  | 8/10 [04:23<01:05, 32.93s/it]"
          ]
        },
        {
          "output_type": "stream",
          "name": "stdout",
          "text": [
            "\n",
            "LR: [0.00025000000000000006] - Train Accuracy: 0.9854113985605913 - Validation Accuracy: 0.9842381786339754\n"
          ]
        },
        {
          "output_type": "stream",
          "name": "stderr",
          "text": [
            "\r 90%|█████████ | 9/10 [04:57<00:33, 33.06s/it]"
          ]
        },
        {
          "output_type": "stream",
          "name": "stdout",
          "text": [
            "\n",
            "LR: [0.00025000000000000006] - Train Accuracy: 0.9896907216494846 - Validation Accuracy: 0.9824868651488616\n"
          ]
        },
        {
          "output_type": "stream",
          "name": "stderr",
          "text": [
            "100%|██████████| 10/10 [05:29<00:00, 32.95s/it]"
          ]
        },
        {
          "output_type": "stream",
          "name": "stdout",
          "text": [
            "\n",
            "LR: [0.00025000000000000006] - Train Accuracy: 0.9896907216494846 - Validation Accuracy: 0.9754816112084063\n"
          ]
        },
        {
          "output_type": "stream",
          "name": "stderr",
          "text": [
            "\n"
          ]
        }
      ]
    },
    {
      "cell_type": "code",
      "source": [
        "fig = plt.figure(figsize=(10, 15))\n",
        "spec = mpl.gridspec.GridSpec(ncols=2, nrows=math.ceil(k_folds / 2.0))\n",
        "\n",
        "fig.suptitle('Loss')\n",
        "\n",
        "axes = []\n",
        "for i in range(spec.nrows):\n",
        "  for j in range(2):\n",
        "    axes.append(fig.add_subplot(spec[i, j]))\n",
        "\n",
        "for i in range(k_folds):\n",
        "  axes[i].set_title(f'Fold {i + 1}')\n",
        "  axes[i].plot(train_loss[i], c='b', label='train loss', linestyle='dotted')\n",
        "  axes[i].plot(val_loss[i], c='r', label='val loss', linestyle='dotted')\n",
        "  axes[i].plot(train_acc[i], c='b', label='train acc')\n",
        "  axes[i].plot(val_acc[i], c='r', label='val acc')\n",
        "  if i == 0:\n",
        "    axes[i].legend()\n",
        "\n",
        "plt.subplots_adjust(hspace=0.5)\n",
        "plt.show()"
      ],
      "metadata": {
        "colab": {
          "base_uri": "https://localhost:8080/",
          "height": 1000
        },
        "id": "aAFTy9vpzopc",
        "outputId": "7ecbd37a-9ecb-423b-c55b-42fa2b015dda"
      },
      "execution_count": null,
      "outputs": [
        {
          "output_type": "display_data",
          "data": {
            "text/plain": [
              "<Figure size 1000x1500 with 10 Axes>"
            ],
            "image/png": "[encoded data removed]"
          },
          "metadata": {}
        }
      ]
    },
    {
      "cell_type": "code",
      "source": [
        "print(f'Average accuracy on train dataset: {round(np.mean(np.array(train_acc)[:, -1]) * 100, 2)}')\n",
        "\n",
        "print(f'Average accuracy on validation dataset: {round(np.mean(np.array(val_acc)[:, -1]) * 100, 2)}')"
      ],
      "metadata": {
        "colab": {
          "base_uri": "https://localhost:8080/"
        },
        "id": "3Ov6fRuv1jdT",
        "outputId": "ca55a3e3-5567-4da5-d746-05c62a0a73a7"
      },
      "execution_count": null,
      "outputs": [
        {
          "output_type": "stream",
          "name": "stdout",
          "text": [
            "Average accuracy on train dataset: 98.77\n",
            "Average accuracy on validation dataset: 97.83\n"
          ]
        }
      ]
    },
    {
      "cell_type": "markdown",
      "source": [
        "# Evaluate the model on test dataset\n"
      ],
      "metadata": {
        "id": "ur3JHAhz3qAg"
      }
    },
    {
      "cell_type": "markdown",
      "source": [
        "The best model among the *k* trained models is selected based on its performance on the validation dataset (minimum loss)."
      ],
      "metadata": {
        "id": "82x3SlIvBGg0"
      }
    },
    {
      "cell_type": "code",
      "source": [
        "best_model = trained_models[np.argmin(np.array(val_loss)[:, -1])]"
      ],
      "metadata": {
        "id": "3zFYnsul1p8h"
      },
      "execution_count": null,
      "outputs": []
    },
    {
      "cell_type": "code",
      "source": [
        "conf_mat = [[0, 0, 0, 0],\n",
        "            [0, 0, 0, 0],\n",
        "            [0, 0, 0, 0],\n",
        "            [0, 0, 0, 0]]\n",
        "\n",
        "with torch.no_grad():\n",
        "  best_model.eval()\n",
        "\n",
        "  avg_loss, total_samples, acc = 0, 0, 0\n",
        "\n",
        "  for test_data in test_loader:\n",
        "\n",
        "    img_test = test_data[\"images\"].to(device)\n",
        "    label_test = test_data[\"labels\"].to(device)\n",
        "\n",
        "    label_pred = best_model(img_test)\n",
        "\n",
        "    total_samples += len(img_test)\n",
        "    acc += torch.sum(torch.argmax(label_pred, axis=-1) == label_test).item()\n",
        "\n",
        "    for i in range(label_pred.shape[0]):\n",
        "      if not torch.argmax(label_pred[i]).eq(label_test[i]):\n",
        "        conf_mat[int(torch.argmax(label_pred[i]).item())][int(label_test[i].item())] += 1\n",
        "      else:\n",
        "        conf_mat[int(label_test[i].item())][int(label_test[i].item())] += 1\n",
        "\n",
        "print(f'Accuracy on test dataset: {round((acc / total_samples) * 100, 2)}')\n",
        "\n",
        "plt.figure(figsize=(6, 5))\n",
        "sn.heatmap(conf_mat, annot=True, fmt='d', cmap='Blues', xticklabels=class_names, yticklabels=class_names)"
      ],
      "metadata": {
        "colab": {
          "base_uri": "https://localhost:8080/",
          "height": 600
        },
        "id": "EgiaGeTo1sG4",
        "outputId": "69f41e54-67c6-43c0-ad91-647541f4004d"
      },
      "execution_count": null,
      "outputs": [
        {
          "output_type": "stream",
          "name": "stdout",
          "text": [
            "Accuracy on test dataset: 98.93\n"
          ]
        },
        {
          "output_type": "execute_result",
          "data": {
            "text/plain": [
              "<Axes: >"
            ]
          },
          "metadata": {},
          "execution_count": 42
        },
        {
          "output_type": "display_data",
          "data": {
            "text/plain": [
              "<Figure size 600x500 with 2 Axes>"
            ],
            "image/png": "[encoded data removed]"
          },
          "metadata": {}
        }
      ]
    }
  ]
}